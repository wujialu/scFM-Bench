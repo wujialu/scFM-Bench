{
 "cells": [
  {
   "cell_type": "markdown",
   "metadata": {},
   "source": [
    "# Generating metrics for selected baselines"
   ]
  },
  {
   "cell_type": "code",
   "execution_count": null,
   "metadata": {},
   "outputs": [],
   "source": [
    "%load_ext autoreload\n",
    "%autoreload 2"
   ]
  },
  {
   "cell_type": "code",
   "execution_count": null,
   "metadata": {},
   "outputs": [],
   "source": [
    "import os\n",
    "\n",
    "import sys\n",
    "env_path = \"%s\" % os.path.dirname(os.path.abspath(\".\")) \n",
    "sys.path.append(env_path)\n",
    "import logging\n",
    "\n",
    "import numpy as np\n",
    "import pandas as pd\n",
    "import scanpy as sc\n",
    "from scipy import sparse\n",
    "import scvi\n",
    "\n",
    "from sc_foundation_evals import utils\n",
    "from sc_foundation_evals.helpers.custom_logging import log\n",
    "import anndata\n",
    "\n",
    "log.setLevel(logging.INFO)\n",
    "\n",
    "import warnings\n",
    "os.environ[\"KMP_WARNINGS\"] = \"off\"\n",
    "warnings.filterwarnings(\"ignore\")"
   ]
  },
  {
   "cell_type": "markdown",
   "metadata": {},
   "source": [
    "Specifying necessary variables, including path to anndata and names of columns with cell type labels and batch labels. I will be using the Pancreas dataset as an example, as described in the scGPT_zer-shot notebook."
   ]
  },
  {
   "cell_type": "code",
   "execution_count": null,
   "metadata": {},
   "outputs": [],
   "source": [
    "# specify the path to anndata object\n",
    "adata_path = \"../data/datasets/pancreas_scib.h5ad\"\n",
    "# dataset_name is inferred from in_dataset_path\n",
    "dataset_name = os.path.basename(adata_path).split(\".\")[0]\n",
    "\n",
    "output_folder = \"../output/HVG\"\n",
    "\n",
    "# batch column found in adata.obs\n",
    "batch_col = \"batch\"\n",
    "# where are labels stored in adata.obs? \n",
    "label_col = \"celltype\"\n",
    "# where the raw counts are stored?\n",
    "layer_key = \"counts\""
   ]
  },
  {
   "cell_type": "markdown",
   "metadata": {},
   "source": [
    "Reading the anndata."
   ]
  },
  {
   "cell_type": "code",
   "execution_count": 29,
   "metadata": {},
   "outputs": [],
   "source": [
    "adata = sc.read(adata_path)"
   ]
  },
  {
   "cell_type": "markdown",
   "metadata": {},
   "source": [
    "If the raw data is stored in `X` or other layer instead of `counts`, we need to copy it to counts to be able to use it in scVI."
   ]
  },
  {
   "cell_type": "code",
   "execution_count": 30,
   "metadata": {},
   "outputs": [],
   "source": [
    "if layer_key == \"X\":\n",
    "    adata.layers[\"counts\"] = adata.X\n",
    "elif layer_key != \"counts\":\n",
    "    adata.layers[\"counts\"] = adata.layers[layer_key]"
   ]
  },
  {
   "cell_type": "markdown",
   "metadata": {},
   "source": [
    "Here, I opted for minimal preprocessing, similar to this suggested by Geneformer."
   ]
  },
  {
   "cell_type": "code",
   "execution_count": 31,
   "metadata": {},
   "outputs": [
    {
     "name": "stdout",
     "output_type": "stream",
     "text": [
      "(16382, 19093)\n",
      "(16382, 17379)\n"
     ]
    }
   ],
   "source": [
    "sc.pp.filter_cells(adata, min_genes=10)\n",
    "print(adata.X.shape)\n",
    "sc.pp.filter_genes(adata, min_cells=10)\n",
    "print(adata.X.shape)\n",
    "sc.pp.normalize_total(adata, target_sum=1e4)\n",
    "# print(adata.X.sum(1))\n",
    "sc.pp.log1p(adata)"
   ]
  },
  {
   "cell_type": "markdown",
   "metadata": {},
   "source": [
    "## Highly variable genes\n",
    "\n",
    "For first baseline, I selected 2000 highly variable genes (HVGs) using `scanpy.pp.highly_variable_genes` with default parameters. I do not want the adata to be subsetted, so I set `subset=False` and save the created cell embedding space to `adata.obsm['X_hvg']`."
   ]
  },
  {
   "cell_type": "code",
   "execution_count": 32,
   "metadata": {},
   "outputs": [],
   "source": [
    "sc.pp.highly_variable_genes(adata, flavor='seurat', subset=False, n_top_genes=2000)\n",
    "\n",
    "adata.obsm[\"X_genes\"] = adata.X[:, adata.var.highly_variable]\n",
    "\n",
    "# check if adata.obsm[\"X_genes\"] is sparse and if so, convert to dense\n",
    "if sparse.issparse(adata.obsm[\"X_genes\"]):\n",
    "    adata.obsm[\"X_genes\"] = np.asarray(adata.obsm[\"X_genes\"].todense())"
   ]
  },
  {
   "cell_type": "markdown",
   "metadata": {},
   "source": [
    "Calculating metrics similiarly to those calculated for Geneformer and scGPT."
   ]
  },
  {
   "cell_type": "code",
   "execution_count": null,
   "metadata": {},
   "outputs": [],
   "source": [
    "scib_metrics = utils.eval_scib_metrics(adata, \n",
    "                                       batch_key=batch_col, \n",
    "                                       label_key=label_col,\n",
    "                                       embedding_key=\"X_genes\")"
   ]
  },
  {
   "cell_type": "code",
   "execution_count": null,
   "metadata": {},
   "outputs": [],
   "source": [
    "scib_metrics"
   ]
  },
  {
   "cell_type": "code",
   "execution_count": null,
   "metadata": {},
   "outputs": [],
   "source": [
    "scib_metrics.to_csv(os.path.join(output_folder, \"hpancreas_cluster.csv\"))"
   ]
  },
  {
   "cell_type": "markdown",
   "metadata": {},
   "source": [
    "To visualize, we will use the umap plotting function from scanpy."
   ]
  },
  {
   "cell_type": "code",
   "execution_count": null,
   "metadata": {},
   "outputs": [],
   "source": [
    "import matplotlib.pyplot as plt\n",
    "sc.set_figure_params(facecolor=\"white\", figsize=(5,4), transparent=True, frameon=False)\n",
    "sc.pp.neighbors(adata, use_rep=\"X_genes\")\n",
    "sc.tl.umap(adata, min_dist = 0.3)\n",
    "fig = sc.pl.umap(adata, color=[batch_col, label_col], wspace = 0.4, return_fig=True)\n",
    "plt.tight_layout()\n",
    "fig.savefig(\"../output/pancreas_scib/HVG/clustering.png\", dpi=200, bbox_inches='tight')"
   ]
  },
  {
   "cell_type": "markdown",
   "metadata": {},
   "source": [
    "### reference mapping (label transfer)"
   ]
  },
  {
   "cell_type": "code",
   "execution_count": null,
   "metadata": {},
   "outputs": [],
   "source": [
    "import faiss\n",
    "from sklearn.metrics import accuracy_score, precision_score, recall_score, f1_score\n",
    "from sklearn.metrics import confusion_matrix"
   ]
  },
  {
   "cell_type": "code",
   "execution_count": null,
   "metadata": {},
   "outputs": [],
   "source": [
    "use_rep_key = \"X_genes\"\n",
    "ref_batch = ['indrop', 'celseq2', 'celseq']\n",
    "adata.obs[\"is_ref\"] = adata.obs[\"batch\"].isin(ref_batch)\n",
    "adata.obs"
   ]
  },
  {
   "cell_type": "code",
   "execution_count": null,
   "metadata": {},
   "outputs": [],
   "source": [
    "ref_adata = adata[adata.obs[\"is_ref\"]==True]\n",
    "test_adata = adata[adata.obs[\"is_ref\"]==False]"
   ]
  },
  {
   "cell_type": "code",
   "execution_count": null,
   "metadata": {},
   "outputs": [],
   "source": [
    "ref_cell_embeddings = ref_adata.obsm[use_rep_key]\n",
    "test_embed = test_adata.obsm[use_rep_key]\n",
    "\n",
    "k = 10  # number of neighbors\n",
    "\n",
    "index = faiss.IndexFlatL2(ref_cell_embeddings.shape[1])\n",
    "index.add(ref_cell_embeddings)\n",
    "\n",
    "# Query dataset, k - number of closest elements (returns 2 numpy arrays)\n",
    "distances, labels = index.search(test_embed, k)\n",
    "\n",
    "idx_list=[i for i in range(test_embed.shape[0])]\n",
    "preds = []\n",
    "sim_list = distances\n",
    "for k in idx_list:\n",
    "    idx = labels[k]\n",
    "    pred = ref_adata.obs[label_col][idx].value_counts()\n",
    "    preds.append(pred.index[0])\n",
    "gt = test_adata.obs[label_col].to_numpy()"
   ]
  },
  {
   "cell_type": "code",
   "execution_count": null,
   "metadata": {},
   "outputs": [],
   "source": [
    "res_dict = {\n",
    "    \"accuracy\": accuracy_score(gt, preds),\n",
    "    \"precision\": precision_score(gt, preds, average=\"macro\"),\n",
    "    \"recall\": recall_score(gt, preds, average=\"macro\"),\n",
    "    \"macro_f1\": f1_score(gt, preds, average=\"macro\"),\n",
    "}\n",
    "\n",
    "res_dict"
   ]
  },
  {
   "cell_type": "markdown",
   "metadata": {},
   "source": [
    "## scVI"
   ]
  },
  {
   "cell_type": "markdown",
   "metadata": {},
   "source": [
    "As the other baseline, we look at the scVI model, which is a VAE model. To read more about it please refer to [scvi-tools manual](https://docs.scvi-tools.org/en/stable/user_guide/models/scvi.html) or [its publication](https://www.nature.com/articles/s41592-018-0229-2/)."
   ]
  },
  {
   "cell_type": "markdown",
   "metadata": {},
   "source": [
    "### Train the scVI model use full data"
   ]
  },
  {
   "cell_type": "code",
   "execution_count": null,
   "metadata": {},
   "outputs": [],
   "source": [
    "SCVI_LATENT_KEY = \"X_scVI\""
   ]
  },
  {
   "cell_type": "code",
   "execution_count": null,
   "metadata": {},
   "outputs": [],
   "source": [
    "# select 2000 HVGs\n",
    "sc.pp.highly_variable_genes(\n",
    "    adata, n_top_genes=2000, batch_key=batch_col, subset=True\n",
    ")"
   ]
  },
  {
   "cell_type": "code",
   "execution_count": null,
   "metadata": {},
   "outputs": [],
   "source": [
    "adata.X.shape"
   ]
  },
  {
   "cell_type": "code",
   "execution_count": null,
   "metadata": {},
   "outputs": [],
   "source": [
    "scvi.model.SCVI.setup_anndata(adata, layer=\"counts\", batch_key=batch_col)"
   ]
  },
  {
   "cell_type": "markdown",
   "metadata": {},
   "source": [
    "Specifying the model and training it."
   ]
  },
  {
   "cell_type": "code",
   "execution_count": null,
   "metadata": {},
   "outputs": [],
   "source": [
    "model = scvi.model.SCVI(adata, n_layers=2, n_latent=10, gene_likelihood=\"nb\")"
   ]
  },
  {
   "cell_type": "code",
   "execution_count": null,
   "metadata": {},
   "outputs": [],
   "source": [
    "model.train()"
   ]
  },
  {
   "cell_type": "markdown",
   "metadata": {},
   "source": [
    "Saving the cell embedding space to `adata.obsm['X_scvi']`."
   ]
  },
  {
   "cell_type": "code",
   "execution_count": null,
   "metadata": {},
   "outputs": [],
   "source": [
    "adata.obsm[SCVI_LATENT_KEY] = model.get_latent_representation()"
   ]
  },
  {
   "cell_type": "markdown",
   "metadata": {},
   "source": [
    "#### Clustering metrics"
   ]
  },
  {
   "cell_type": "code",
   "execution_count": null,
   "metadata": {},
   "outputs": [],
   "source": [
    "scib_metrics = utils.eval_scib_metrics(adata, \n",
    "                                       batch_key=batch_col, \n",
    "                                       label_key=label_col,\n",
    "                                       embedding_key=SCVI_LATENT_KEY)"
   ]
  },
  {
   "cell_type": "code",
   "execution_count": null,
   "metadata": {},
   "outputs": [],
   "source": [
    "sc.pp.neighbors(adata, use_rep=SCVI_LATENT_KEY)\n",
    "sc.tl.umap(adata, min_dist = 0.3)"
   ]
  },
  {
   "cell_type": "markdown",
   "metadata": {},
   "source": [
    "#### Visualizing the cell embedding space."
   ]
  },
  {
   "cell_type": "code",
   "execution_count": null,
   "metadata": {},
   "outputs": [],
   "source": [
    "sc.pl.umap(adata, color=[batch_col, label_col], wspace = 0.4)"
   ]
  },
  {
   "cell_type": "markdown",
   "metadata": {},
   "source": [
    "#### reference mapping"
   ]
  },
  {
   "cell_type": "code",
   "execution_count": null,
   "metadata": {},
   "outputs": [],
   "source": [
    "import faiss\n",
    "from sklearn.metrics import accuracy_score, precision_score, recall_score, f1_score\n",
    "from sklearn.metrics import confusion_matrix"
   ]
  },
  {
   "cell_type": "code",
   "execution_count": null,
   "metadata": {},
   "outputs": [],
   "source": [
    "ref_batch = ['indrop', 'celseq2', 'celseq']\n",
    "adata.obs[\"is_ref\"] = adata.obs[\"batch\"].isin(ref_batch)\n",
    "adata.obs"
   ]
  },
  {
   "cell_type": "code",
   "execution_count": null,
   "metadata": {},
   "outputs": [],
   "source": [
    "ref_adata = adata[adata.obs[\"is_ref\"]==True]\n",
    "test_adata = adata[adata.obs[\"is_ref\"]==False]"
   ]
  },
  {
   "cell_type": "code",
   "execution_count": null,
   "metadata": {},
   "outputs": [],
   "source": [
    "ref_cell_embeddings = ref_adata.obsm[SCVI_LATENT_KEY]\n",
    "test_embed = test_adata.obsm[SCVI_LATENT_KEY]\n",
    "\n",
    "k = 10  # number of neighbors\n",
    "\n",
    "index = faiss.IndexFlatL2(ref_cell_embeddings.shape[1])\n",
    "index.add(ref_cell_embeddings)\n",
    "\n",
    "# Query dataset, k - number of closest elements (returns 2 numpy arrays)\n",
    "distances, labels = index.search(test_embed, k)\n",
    "\n",
    "idx_list=[i for i in range(test_embed.shape[0])]\n",
    "preds = []\n",
    "sim_list = distances\n",
    "for k in idx_list:\n",
    "    idx = labels[k]\n",
    "    pred = ref_adata.obs[label_col][idx].value_counts()\n",
    "    preds.append(pred.index[0])\n",
    "gt = test_adata.obs[label_col].to_numpy()"
   ]
  },
  {
   "cell_type": "code",
   "execution_count": null,
   "metadata": {},
   "outputs": [],
   "source": [
    "res_dict = {\n",
    "    \"accuracy\": accuracy_score(gt, preds),\n",
    "    \"precision\": precision_score(gt, preds, average=\"macro\"),\n",
    "    \"recall\": recall_score(gt, preds, average=\"macro\"),\n",
    "    \"macro_f1\": f1_score(gt, preds, average=\"macro\"),\n",
    "}\n",
    "\n",
    "res_dict"
   ]
  },
  {
   "cell_type": "markdown",
   "metadata": {},
   "source": [
    "### Train the scVI model use the reference data and update with query"
   ]
  },
  {
   "cell_type": "code",
   "execution_count": null,
   "metadata": {},
   "outputs": [],
   "source": [
    "pancreas_ref = adata[adata.obs[\"is_ref\"]==True]\n",
    "pancreas_query = adata[adata.obs[\"is_ref\"]==False]\n",
    "assert pancreas_ref.X.shape[0]+pancreas_query.X.shape[0] == adata.X.shape[0]"
   ]
  },
  {
   "cell_type": "code",
   "execution_count": null,
   "metadata": {},
   "outputs": [],
   "source": [
    "# select 2000 HVGs\n",
    "sc.pp.highly_variable_genes(\n",
    "    pancreas_ref, n_top_genes=2000, batch_key=batch_col, subset=True\n",
    ")\n",
    "\n",
    "pancreas_query = pancreas_query[:, pancreas_ref.var_names].copy()"
   ]
  },
  {
   "cell_type": "code",
   "execution_count": null,
   "metadata": {},
   "outputs": [],
   "source": [
    "scvi.model.SCVI.setup_anndata(pancreas_ref, layer=\"counts\", batch_key=batch_col)"
   ]
  },
  {
   "cell_type": "code",
   "execution_count": null,
   "metadata": {},
   "outputs": [],
   "source": [
    "scvi_ref = scvi.model.SCVI(\n",
    "    pancreas_ref,\n",
    "    use_layer_norm=\"both\",\n",
    "    use_batch_norm=\"none\",\n",
    "    encode_covariates=True,\n",
    "    dropout_rate=0.2,\n",
    "    n_layers=2,\n",
    ") \n",
    "scvi_ref.train()"
   ]
  },
  {
   "cell_type": "code",
   "execution_count": null,
   "metadata": {},
   "outputs": [],
   "source": [
    "scvi.model.SCVI.prepare_query_anndata(pancreas_query, scvi_ref)"
   ]
  },
  {
   "cell_type": "code",
   "execution_count": null,
   "metadata": {},
   "outputs": [],
   "source": [
    "scvi_query = scvi.model.SCVI.load_query_data(\n",
    "    pancreas_query,\n",
    "    scvi_ref,\n",
    ") "
   ]
  },
  {
   "cell_type": "code",
   "execution_count": null,
   "metadata": {},
   "outputs": [],
   "source": [
    "#! weight_decay=0, make sure thet the latent representations for ref_data are fixed \n",
    "scvi_query.train(max_epochs=200, plan_kwargs={\"weight_decay\": 0.0}) "
   ]
  },
  {
   "cell_type": "code",
   "execution_count": null,
   "metadata": {},
   "outputs": [],
   "source": [
    "pancreas_full = anndata.concat([pancreas_query, pancreas_ref])\n",
    "pancreas_full"
   ]
  },
  {
   "cell_type": "code",
   "execution_count": null,
   "metadata": {},
   "outputs": [],
   "source": [
    "pancreas_full.obsm[SCVI_LATENT_KEY] = scvi_query.get_latent_representation(\n",
    "    pancreas_full\n",
    ")"
   ]
  },
  {
   "cell_type": "code",
   "execution_count": null,
   "metadata": {},
   "outputs": [],
   "source": [
    "ref_cell_embeddings = pancreas_full.obsm[SCVI_LATENT_KEY][pancreas_full.obs[\"is_ref\"]==True]\n",
    "test_embed = pancreas_full.obsm[SCVI_LATENT_KEY][pancreas_full.obs[\"is_ref\"]==False]\n",
    "\n",
    "k = 10  # number of neighbors\n",
    "\n",
    "index = faiss.IndexFlatL2(ref_cell_embeddings.shape[1])\n",
    "index.add(ref_cell_embeddings)\n",
    "\n",
    "# Query dataset, k - number of closest elements (returns 2 numpy arrays)\n",
    "distances, labels = index.search(test_embed, k)\n",
    "\n",
    "idx_list=[i for i in range(test_embed.shape[0])]\n",
    "preds = []\n",
    "sim_list = distances\n",
    "for k in idx_list:\n",
    "    idx = labels[k]\n",
    "    pred = ref_adata.obs[label_col][idx].value_counts()\n",
    "    preds.append(pred.index[0])\n",
    "gt = test_adata.obs[label_col].to_numpy()"
   ]
  },
  {
   "cell_type": "code",
   "execution_count": null,
   "metadata": {},
   "outputs": [],
   "source": [
    "res_dict = {\n",
    "    \"accuracy\": accuracy_score(gt, preds),\n",
    "    \"precision\": precision_score(gt, preds, average=\"macro\"),\n",
    "    \"recall\": recall_score(gt, preds, average=\"macro\"),\n",
    "    \"macro_f1\": f1_score(gt, preds, average=\"macro\"),\n",
    "}\n",
    "res_dict"
   ]
  },
  {
   "cell_type": "markdown",
   "metadata": {},
   "source": [
    "### Supervised using reference data labels (SCANVI)"
   ]
  },
  {
   "cell_type": "markdown",
   "metadata": {},
   "source": []
  }
 ],
 "metadata": {
  "kernelspec": {
   "display_name": "singlecell",
   "language": "python",
   "name": "python3"
  },
  "language_info": {
   "codemirror_mode": {
    "name": "ipython",
    "version": 3
   },
   "file_extension": ".py",
   "mimetype": "text/x-python",
   "name": "python",
   "nbconvert_exporter": "python",
   "pygments_lexer": "ipython3",
   "version": "3.8.19"
  }
 },
 "nbformat": 4,
 "nbformat_minor": 2
}
